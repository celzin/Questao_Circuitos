{
  "metadata": {
    "language_info": {
      "codemirror_mode": {
        "name": "python",
        "version": 3
      },
      "file_extension": ".py",
      "mimetype": "text/x-python",
      "name": "python",
      "nbconvert_exporter": "python",
      "pygments_lexer": "ipython3",
      "version": "3.8"
    },
    "kernelspec": {
      "name": "python",
      "display_name": "Python (Pyodide)",
      "language": "python"
    }
  },
  "nbformat_minor": 4,
  "nbformat": 4,
  "cells": [
    {
      "cell_type": "markdown",
      "source": "# Resolução da Questão 4 do Trabalho Avaliativo de Análise de Circuitos\n\nO circuito representado pela figura:\n\n<div align=\"center\">\n<img src=\"https://github.com/celzin/Questao_Circuitos/blob/main/imgs/circuit.png\" width=50% >\n</div>\n\nPode ser modelado pelas leis de Ohm, Kirchoff da Corrente nos Nós e Kirchoff da Tensão nas Malhas para o seguinte sistema linear:\n\n$$\n\\begin{cases}\n    &1 V_{a} + 0 V_{b} + 0 V_{c} + 0 V_{d} + 0 V_{e} + 0 V_{f} + 0 V_{g} + 0 V_{h} + 0 V_{i} - 9 i_{1} + 0 i_{2} + 0 i_{3} + 0 i_{4} + 0 i_{5} &= 0\\\\\n    &0 V_{a} + 1 V_{b} + 0 V_{c} + 0 V_{d} + 0 V_{e} + 0 V_{f} + 0 V_{g} + 0 V_{h} + 0 V_{i} - 11 i_{1} + 0 i_{2} + 0 i_{3} + 0 i_{4} + 0 i_{5} &= 0\\\\\n    &0 V_{a} + 0 V_{b} + 1 V_{c} + 0 V_{d} + 0 V_{e} + 0 V_{f} + 0 V_{g} + 0 V_{h} + 0 V_{i} - 10 i_{1} + 0 i_{2} + 0 i_{3} + 0 i_{4} + 0 i_{5} &= 0\\\\\n    &0 V_{a} + 0 V_{b} + 0 V_{c} + 1 V_{d} + 0 V_{e} + 0 V_{f} + 0 V_{g} + 0 V_{h} + 0 V_{i} + 0 i_{1} + 0 i_{2} + 0 i_{3} + 0 i_{4} - 4 i_{5} &= 0\\\\\n    &0 V_{a} + 0 V_{b} + 0 V_{c} + 0 V_{d} + 1 V_{e} + 0 V_{f} + 0 V_{g} + 0 V_{h} + 0 V_{i} + 0 i_{1} + 0 i_{2} + 0 i_{3} + 0 i_{4} - 16 i_{5} &= 0\\\\\n    &0 V_{a} + 0 V_{b} + 0 V_{c} + 0 V_{d} + 0 V_{e} + 1 V_{f} + 0 V_{g} + 0 V_{h} + 0 V_{i} + 0 i_{1} + 0 i_{2} + 0 i_{3} + 0 i_{4} + 0 i_{5} &= 60\\\\\n    &0 V_{a} + 0 V_{b} + 0 V_{c} + 0 V_{d} + 0 V_{e} + 0 V_{f} + 0 V_{g} + 1 V_{h} + 0 V_{i} + 0 i_{1} - 4 i_{2} + 0 i_{3} + 0 i_{4} + 0 i_{5} &= 0\\\\\n    &0 V_{a} + 0 V_{b} + 0 V_{c} + 0 V_{d} + 0 V_{e} + 0 V_{f} + 0 V_{g} + 0 V_{h} + 1 V_{i} + 0 i_{1} + 0 i_{2} - 30 i_{3} + 0 i_{4} + 0 i_{5} &= 0\\\\\n    &0 V_{a} + 0 V_{b} + 0 V_{c} + 0 V_{d} + 0 V_{e} + 0 V_{f} + 0 V_{g} + 0 V_{h} + 0 V_{i} + 1 i_{1} + 1 i_{2} + 0 i_{3} + 0 i_{4} + 0 i_{5} &= -4\\\\\n    &0 V_{a} + 0 V_{b} + 0 V_{c} + 0 V_{d} + 0 V_{e} + 0 V_{f} + 0 V_{g} + 0 V_{h} + 0 V_{i} + 0 i_{1} + 1 i_{2} - 1 i_{3} - 1 i_{4} + 0 i_{5} &= 0\\\\\n    &0 V_{a} + 0 V_{b} + 0 V_{c} + 0 V_{d} + 0 V_{e} + 0 V_{f} + 0 V_{g} + 0 V_{h} + 0 V_{i} - 1 i_{1} + 0 i_{2} - 1 i_{3} + 0 i_{4} + 1 i_{5} &= 0\\\\\n    &0 V_{a} + 0 V_{b} + 0 V_{c} + 0 V_{d} + 0 V_{e} + 0 V_{f} - 1 V_{g} + 0 V_{h} + 0 V_{i} + 0 i_{1} - 5 i_{2} + 0 i_{3} + 0 i_{4} + 0 i_{5} &= -160\\\\\n    &0 V_{a} + 0 V_{b} + 0 V_{c} + 0 V_{d} + 0 V_{e} + 0 V_{f} + 1 V_{g} + 0 V_{h} + 0 V_{i} + 0 i_{1} + 0 i_{2} - 30 i_{3} + 0 i_{4} - 20 i_{5} &= 0\\\\\n    &0 V_{a} + 0 V_{b} + 0 V_{c} + 0 V_{d} + 0 V_{e} + 0 V_{f} + 0 V_{g} + 0 V_{h} + 0 V_{i} - 30 i_{1} + 5 i_{2} + 30 i_{3} + 0 i_{4} + 0 i_{5} &= 0\\\\\n\\end{cases}\n$$\n\nSua representação matricial é dada por:\n\n$$\n\\begin{equation*}\n\\begin{bmatrix}\n1 & 0 & 0 & 0 & 0 & 0 & 0 & 0  & 0   & -9 & 0   & 0   & 0   & 0  \\\\\n0 & 1 & 0 & 0 & 0 & 0 & 0 & 0  & 0   & -11& 0   & 0   & 0   & 0  \\\\\n0 & 0 & 1 & 0 & 0 & 0 & 0 & 0  & 0   & -10& 0   & 0   & 0   & 0  \\\\\n0 & 0 & 0 & 1 & 0 & 0 & 0 & 0  & 0   & 0  & 0   & 0   & 0   & -4 \\\\\n0 & 0 & 0 & 0 & 1 & 0 & 0 & 0  & 0   & 0  & 0   & 0   & 0   & -16\\\\\n0 & 0 & 0 & 0 & 0 & 1 & 0 & 0  & 0   & 0  & 0   & 0   & 0   & 0  \\\\\n0 & 0 & 0 & 0 & 0 & 0 & 0 & 1  & 0   & 0  & -4  & 0   & 0   & 0  \\\\\n0 & 0 & 0 & 0 & 0 & 0 & 0 & 0  & 1   & 0  & 0   & -30 & 0   & 0  \\\\\n0 & 0 & 0 & 0 & 0 & 0 & 0 & 0  & 0   & 1  & 1   & 0   & 0   & 0  \\\\\n0 & 0 & 0 & 0 & 0 & 0 & 0 & 0  & 0   & 0  & 1   & -1  & -1  & 0  \\\\\n0 & 0 & 0 & 0 & 0 & 0 & 0 & 0  & 0   & -1 & 0   & -1  & 0   & 1  \\\\\n0 & 0 & 0 & 0 & 0 & 0 & -1& 0  & 0   & 0  & -5  & 0   & 0   & 0  \\\\\n0 & 0 & 0 & 0 & 0 & 0 & 1 & 0  & 0   & 0  & 0   & -30 & 0   & -20\\\\\n0 & 0 & 0 & 0 & 0 & 0 & 0 & 0  & 0   & -30& 5   & 30  & 0   & 0  \\\\\n\\end{bmatrix}\n\\begin{bmatrix}\nV_a \\\\ V_b \\\\ V_c \\\\ V_d \\\\ V_e \\\\ V_f \\\\ V_g \\\\ V_h \\\\ V_i \\\\ i_1 \\\\ i_2 \\\\ i_3 \\\\ i_4 \\\\ i_5\n\\end{bmatrix}\n=\n\\begin{bmatrix}\n0 \\\\ 0 \\\\ 0 \\\\ 0 \\\\ 0 \\\\ 60\\\\ 0 \\\\ 0 \\\\ -4 \\\\ 0 \\\\ 0 \\\\ -160 \\\\ 0 \\\\ 0\n\\end{bmatrix}\n\\end{equation*}\n$$\n\nE usaremos a biblioteca numpy para resolvê-lo. Primeiro, devemos importar a biblioteca.",
      "metadata": {
        "tags": []
      }
    },
    {
      "cell_type": "markdown",
      "source": "## Importando o Numpy",
      "metadata": {}
    },
    {
      "cell_type": "code",
      "source": "import numpy as np\nimport pandas as pd",
      "metadata": {
        "trusted": true
      },
      "execution_count": 1,
      "outputs": []
    },
    {
      "cell_type": "markdown",
      "source": "## Definindo a matriz A de coeficientes",
      "metadata": {}
    },
    {
      "cell_type": "code",
      "source": "A = np.array([\n    [1] + [0 for i in range(8)] + [-9] + [0 for i in range(4)],\n    [0, 1] + [0 for i in range(7)] + [-11] + [0 for i in range(4)],\n    [0, 0, 1] + [0 for i in range(6)] + [-10] + [0 for i in range(4)],\n    [0 for i in range(3)] + [1] + [0 for i in range(9)] + [-4],\n    [0 for i in range(4)] + [1] + [0 for i in range(8)] + [-16],\n    [0 for i in range(5)] + [1] + [0 for i in range(8)],\n    [0 for i in range(7)] + [1, 0, 0, -4] + [0 for i in range(3)],\n    [0 for i in range(8)] + [1, 0, 0, -30, 0, 0],\n    [0 for i in range(9)] + [1, 1, 0, 0, 0],\n    [0 for i in range(10)] + [1, -1, -1, 0],\n    [0 for i in range(9)] + [-1, 0, -1, 0, 1],\n    [0 for i in range(6)] + [-1, 0, 0, 0, -5, 0, 0, 0],\n    [0 for i in range(6)] + [1, 0, 0, 0, 0, -30, 0, -20],\n    [0 for i in range(9)] + [-30, 5, 30, 0, 0]\n])\n\nB = np.array(\n    [[0] for i in range(5)] + [[60], [0], [0], [-4], [0], [0], [-160], [0], [0]]\n)",
      "metadata": {
        "trusted": true
      },
      "execution_count": 2,
      "outputs": []
    },
    {
      "cell_type": "markdown",
      "source": "## Definindo a matriz B de termos independentes",
      "metadata": {}
    },
    {
      "cell_type": "code",
      "source": "B = np.array(\n    [[0] for i in range(5)] + [[60], [0], [0], [-4], [0], [0], [-160], [0], [0]]\n)",
      "metadata": {
        "trusted": true
      },
      "execution_count": 3,
      "outputs": []
    },
    {
      "cell_type": "markdown",
      "source": "## Definindo o nome das variáveis",
      "metadata": {}
    },
    {
      "cell_type": "code",
      "source": "nomes_variaveis = ['V_a', 'V_b', 'V_c', 'V_d', 'V_e', 'V_f', 'V_g', 'V_h', 'V_i', 'i_1', 'i_2', 'i_3', 'i_4', 'i_5']",
      "metadata": {
        "trusted": true
      },
      "execution_count": 4,
      "outputs": []
    },
    {
      "cell_type": "markdown",
      "source": "## Calculando os resultados",
      "metadata": {}
    },
    {
      "cell_type": "code",
      "source": "resultados = np.linalg.solve(A, B).ravel()",
      "metadata": {
        "trusted": true
      },
      "execution_count": 5,
      "outputs": []
    },
    {
      "cell_type": "markdown",
      "source": "### Mostrando os resultados com formatação em latex:",
      "metadata": {}
    },
    {
      "cell_type": "code",
      "source": "from IPython.display import display, Markdown, Latex\n\nunidade = {}\n# 1. Definindo as unidades das variáveis de tensão como Volt\nfor nome_variavel in nomes_variaveis[0:9]:\n    unidade[nome_variavel] = 'V'\n    \n# 2. Definindo as unidades das variáveis de corrente como Ampére\nfor nome_variavel in nomes_variaveis[9:14]:\n    unidade[nome_variavel] = 'A'\n    \n# criando string para armazenar o resultado em formato latex\n\nresultado_tex = '''$$\n\\\\begin{align}\n'''\n\n# adicionando cada resultado em resultado_tex em formato latex\n\nfor nome_variavel, resultado in zip(nomes_variaveis, resultados):\n    resultado_tex += '    &{} = {:.2f}{}\\\\\\\\\\n'.format(nome_variavel, resultado, unidade[nome_variavel])\n\n# finalizando a string\n\nresultado_tex += '''\\end{align}\n$$\n'''\ndisplay(Markdown(resultado_tex))",
      "metadata": {
        "trusted": true
      },
      "execution_count": 6,
      "outputs": [
        {
          "output_type": "display_data",
          "data": {
            "text/plain": "<IPython.core.display.Markdown object>",
            "text/markdown": "$$\n\\begin{align}\n    &V_a = 18.00V\\\\\n    &V_b = 22.00V\\\\\n    &V_c = 20.00V\\\\\n    &V_d = 20.00V\\\\\n    &V_e = 80.00V\\\\\n    &V_f = 60.00V\\\\\n    &V_g = 190.00V\\\\\n    &V_h = -24.00V\\\\\n    &V_i = 90.00V\\\\\n    &i_1 = 2.00A\\\\\n    &i_2 = -6.00A\\\\\n    &i_3 = 3.00A\\\\\n    &i_4 = -9.00A\\\\\n    &i_5 = 5.00A\\\\\n\\end{align}\n$$\n"
          },
          "metadata": {}
        }
      ]
    }
  ]
}